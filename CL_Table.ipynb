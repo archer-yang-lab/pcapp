{
  "nbformat": 4,
  "nbformat_minor": 0,
  "metadata": {
    "colab": {
      "provenance": []
    },
    "kernelspec": {
      "name": "python3",
      "display_name": "Python 3"
    },
    "language_info": {
      "name": "python"
    }
  },
  "cells": [
    {
      "cell_type": "code",
      "execution_count": 1,
      "metadata": {
        "id": "6Ra1A7VVt-x5"
      },
      "outputs": [],
      "source": [
        "import numpy as np\n",
        "import pandas as pd\n",
        "import matplotlib.pyplot as plt"
      ]
    },
    {
      "cell_type": "code",
      "source": [
        "def Generalized_eigenvector(A,B):\n",
        "  eig_mat_B = np.linalg.eig(B)[1] #### (v_{B,1}, ...., v_{B,p})\n",
        "  eig_mat_B_tild = np.dot(eig_mat_B, np.diag(np.linalg.eig(B)[0]**(-0.5)))\n",
        "  A_tild = np.dot(eig_mat_B_tild.T, A).dot(eig_mat_B_tild)\n",
        "  eig_mat_A = np.linalg.eig(A_tild)[1]\n",
        "  eig_mat_A_val = np.linalg.eig(A_tild)[0]\n",
        "\n",
        "  res = np.dot(eig_mat_B_tild, eig_mat_A)\n",
        "  sorted_indices = np.argsort(eig_mat_A_val)[::-1]\n",
        "  eig_mat_A_val = eig_mat_A_val[sorted_indices]\n",
        "  res = res[:, sorted_indices]\n",
        "  return res\n",
        "\n",
        "def Generalized_eigenvector_topk_2(A,B):\n",
        "  s = 10\n",
        "  eig_mat_B = np.linalg.eig(B)[1][:,:10] #### (v_{B,1}, ...., v_{B,p})\n",
        "  eig_mat_B_tild = np.dot(eig_mat_B, np.diag(np.linalg.eig(B)[0][:10]**(-0.5)))\n",
        "  A_tild = np.dot(eig_mat_B_tild.T, A).dot(eig_mat_B_tild)\n",
        "  A_tild = A_tild + np.eye(len(A_tild))*0\n",
        "  eig_mat_A = np.linalg.eig(A_tild)[1]\n",
        "  eig_mat_A_val = np.linalg.eig(A_tild)[0]\n",
        "\n",
        "  res = np.dot(eig_mat_B, eig_mat_A)\n",
        "  sorted_indices = np.argsort(eig_mat_A_val)[::-1]\n",
        "  eig_mat_A_val = eig_mat_A_val[sorted_indices]\n",
        "  res = res[:, sorted_indices]\n",
        "  return res\n",
        "\n",
        "def SinTheta(U,W):  #### U \\in R^{p*k}\n",
        "  tmp = np.matmul(U.T, W)\n",
        "  _, S, _ = np.linalg.svd(tmp, full_matrices=True)\n",
        "  return np.sin(np.arccos(min(S)))\n",
        "\n",
        "def TheoryVal(asp_rat, min_sig):\n",
        "  res = 1 - (1 - asp_rat/min_sig**2)/(1 + asp_rat/min_sig)\n",
        "  return np.sqrt(res)\n",
        "\n",
        "def generate_data_2(p = 400, n = 1000, sig_lev = [1,2,3,4,5], bkg_lev = [1,2,3,4,5]):\n",
        "\n",
        "  A = np.zeros((p, 5))\n",
        "  A[0][0] = np.sqrt(sig_lev[0])\n",
        "  A[1][1] = np.sqrt(sig_lev[1])\n",
        "  A[2][2] = np.sqrt(sig_lev[2])\n",
        "  A[3][3] = np.sqrt(sig_lev[3])\n",
        "  A[4][4] = np.sqrt(sig_lev[4])\n",
        "\n",
        "  B = np.zeros((p, 5))\n",
        "  B[-1][0] = np.sqrt(bkg_lev[0])\n",
        "  B[-2][1] = np.sqrt(bkg_lev[1])\n",
        "  B[-3][2] = np.sqrt(bkg_lev[2])\n",
        "  B[-4][3] = np.sqrt(bkg_lev[3])\n",
        "  B[-5][4] = np.sqrt(bkg_lev[4])\n",
        "\n",
        "\n",
        "  epsilon = np.random.normal(0,1, size = (n,p))\n",
        "  epsilon_2 = np.random.normal(0,1, size = (n,p))\n",
        "\n",
        "  F = np.random.normal(0,1, size = (n,5))\n",
        "\n",
        "  L = np.random.normal(0,1, size = (n,5))\n",
        "  Lplus = np.random.normal(0,1, size = (n,5))\n",
        "\n",
        "  X = F.dot(A.T) + L.dot(B.T) + epsilon\n",
        "  Xplus = F.dot(A.T) + Lplus.dot(B.T) + epsilon_2\n",
        "\n",
        "  S = X.T.dot(X)/n\n",
        "  Splus = (X.T.dot(Xplus) + Xplus.T.dot(X))/2/n\n",
        "  return S, Splus"
      ],
      "metadata": {
        "id": "rvg2evBHuC5l"
      },
      "execution_count": 188,
      "outputs": []
    },
    {
      "cell_type": "code",
      "source": [
        "n = 100\n",
        "p = 40\n",
        "N = 50\n",
        "\n",
        "res = [[0]*N for _ in range(4)]\n",
        "\n",
        "sig_lev = [10,10,15,20,20]\n",
        "bkg_lev = [100,100,200,500,500]\n",
        "\n",
        "#### True space\n",
        "Sig = np.zeros((p, 5))\n",
        "Sig[0][0] = 1\n",
        "Sig[1][1] = 1\n",
        "Sig[2][2] = 1\n",
        "Sig[3][3] = 1\n",
        "Sig[4][4] = 1\n",
        "\n",
        "Bkg = np.zeros((p, 5))\n",
        "Bkg[-1][0] = 1\n",
        "Bkg[-2][1] = 1\n",
        "Bkg[-3][2] = 1\n",
        "Bkg[-4][3] = 1\n",
        "Bkg[-5][4] = 1\n",
        "\n",
        "for i in range(N):\n",
        "  S, Splus= generate_data_2(p = p, n = n, sig_lev = sig_lev, bkg_lev = bkg_lev)\n",
        "\n",
        "  vec = np.linalg.eig(S)[1].T[:5]\n",
        "  vec_cl = np.linalg.eig(Splus)[1].T[:5]\n",
        "  vec_unif_1 = Generalized_eigenvector_topk_2(Splus,S).T[:5]\n",
        "\n",
        "  res[0][i] = SinTheta(vec.T, Sig)\n",
        "  res[1][i] = SinTheta(vec_cl.T, Sig)\n",
        "  res[2][i] = SinTheta(vec_unif_1.T, Sig)\n",
        "  res[3][i] = TheoryVal(p/n, min(sig_lev))\n",
        "\n",
        "m = [0]*4\n",
        "sd = [0]*4\n",
        "for i in range(4):\n",
        "  m[i] = float(np.mean(res[i]))\n",
        "  sd[i] = float(np.std(res[i]))\n",
        "print(m,sd)"
      ],
      "metadata": {
        "colab": {
          "base_uri": "https://localhost:8080/"
        },
        "id": "x-2_iwc7uG2K",
        "outputId": "af58c9b2-309e-46df-8818-bbab0546e9d7"
      },
      "execution_count": 307,
      "outputs": [
        {
          "output_type": "stream",
          "name": "stdout",
          "text": [
            "[0.9999492032812097, 0.9993809736118378, 0.3048449487899472, 0.2056883378018608] [6.499138116543227e-05, 0.0008478774571379029, 0.037254140906155066, 5.551115123125783e-17]\n"
          ]
        }
      ]
    },
    {
      "cell_type": "code",
      "source": [
        "n = 500\n",
        "p = 200\n",
        "N = 50\n",
        "\n",
        "res = [[0]*N for _ in range(4)]\n",
        "\n",
        "sig_lev = [10,10,15,20,20]\n",
        "bkg_lev = [100,100,200,500,500]\n",
        "\n",
        "#### True space\n",
        "Sig = np.zeros((p, 5))\n",
        "Sig[0][0] = 1\n",
        "Sig[1][1] = 1\n",
        "Sig[2][2] = 1\n",
        "Sig[3][3] = 1\n",
        "Sig[4][4] = 1\n",
        "\n",
        "Bkg = np.zeros((p, 5))\n",
        "Bkg[-1][0] = 1\n",
        "Bkg[-2][1] = 1\n",
        "Bkg[-3][2] = 1\n",
        "Bkg[-4][3] = 1\n",
        "Bkg[-5][4] = 1\n",
        "\n",
        "for i in range(N):\n",
        "  S, Splus= generate_data_2(p = p, n = n, sig_lev = sig_lev, bkg_lev = bkg_lev)\n",
        "\n",
        "  vec = np.linalg.eig(S)[1].T[:5]\n",
        "  vec_cl = np.linalg.eig(Splus)[1].T[:5]\n",
        "  vec_unif_1 = Generalized_eigenvector_topk_2(Splus,S).T[:5]\n",
        "\n",
        "  res[0][i] = SinTheta(vec.T, Sig)\n",
        "  res[1][i] = SinTheta(vec_cl.T, Sig)\n",
        "  res[2][i] = SinTheta(vec_unif_1.T, Sig)\n",
        "  res[3][i] = TheoryVal(p/n, min(sig_lev))\n",
        "\n",
        "m = [0]*4\n",
        "sd = [0]*4\n",
        "for i in range(4):\n",
        "  m[i] = float(np.mean(res[i]))\n",
        "  sd[i] = float(np.std(res[i]))\n",
        "print(m,sd)"
      ],
      "metadata": {
        "colab": {
          "base_uri": "https://localhost:8080/"
        },
        "id": "D_ySmgmvwiVa",
        "outputId": "fa53e69b-3f13-4c90-dcfd-db3c7aa1e744"
      },
      "execution_count": 308,
      "outputs": [
        {
          "output_type": "stream",
          "name": "stdout",
          "text": [
            "[0.9999929165611983, 0.9996295506077747, 0.2258428234000012, 0.2056883378018608] [1.0597335337004228e-05, 0.0006860107496815607, 0.010850011281416945, 5.551115123125783e-17]\n"
          ]
        }
      ]
    },
    {
      "cell_type": "code",
      "source": [
        "n = 2500\n",
        "p = 1000\n",
        "N = 50\n",
        "\n",
        "res = [[0]*N for _ in range(4)]\n",
        "\n",
        "sig_lev = [10,10,15,20,20]\n",
        "bkg_lev = [100,100,200,500,500]\n",
        "\n",
        "#### True space\n",
        "Sig = np.zeros((p, 5))\n",
        "Sig[0][0] = 1\n",
        "Sig[1][1] = 1\n",
        "Sig[2][2] = 1\n",
        "Sig[3][3] = 1\n",
        "Sig[4][4] = 1\n",
        "\n",
        "Bkg = np.zeros((p, 5))\n",
        "Bkg[-1][0] = 1\n",
        "Bkg[-2][1] = 1\n",
        "Bkg[-3][2] = 1\n",
        "Bkg[-4][3] = 1\n",
        "Bkg[-5][4] = 1\n",
        "\n",
        "for i in range(N):\n",
        "  S, Splus= generate_data_2(p = p, n = n, sig_lev = sig_lev, bkg_lev = bkg_lev)\n",
        "\n",
        "  vec = np.linalg.eig(S)[1].T[:5]\n",
        "  vec_cl = np.linalg.eig(Splus)[1].T[:5]\n",
        "  vec_unif_1 = Generalized_eigenvector_topk_2(Splus,S).T[:5]\n",
        "\n",
        "  res[0][i] = SinTheta(vec.T, Sig)\n",
        "  res[1][i] = SinTheta(vec_cl.T, Sig)\n",
        "  res[2][i] = SinTheta(vec_unif_1.T, Sig)\n",
        "  res[3][i] = TheoryVal(p/n, min(sig_lev))\n",
        "\n",
        "m = [0]*4\n",
        "sd = [0]*4\n",
        "for i in range(4):\n",
        "  m[i] = float(np.mean(res[i]))\n",
        "  sd[i] = float(np.std(res[i]))\n",
        "print(m,sd)"
      ],
      "metadata": {
        "colab": {
          "base_uri": "https://localhost:8080/"
        },
        "id": "Ly6VHs_awqNy",
        "outputId": "b73942b6-70b0-407a-9037-b5513589bfd9"
      },
      "execution_count": 309,
      "outputs": [
        {
          "output_type": "stream",
          "name": "stdout",
          "text": [
            "[0.9999982030501614, 0.9994580725264504, 0.21297995941066275, 0.2056883378018608] [2.3839402387740647e-06, 0.001259469360157635, 0.0050892073651034285, 5.551115123125783e-17]\n"
          ]
        }
      ]
    },
    {
      "cell_type": "code",
      "source": [
        "n = 100\n",
        "p = 40\n",
        "N = 50\n",
        "\n",
        "res = [[0]*N for _ in range(4)]\n",
        "\n",
        "sig_lev = [10,10,15,20,20]\n",
        "bkg_lev = [25,25,50,100,100]\n",
        "\n",
        "#### True space\n",
        "Sig = np.zeros((p, 5))\n",
        "Sig[0][0] = 1\n",
        "Sig[1][1] = 1\n",
        "Sig[2][2] = 1\n",
        "Sig[3][3] = 1\n",
        "Sig[4][4] = 1\n",
        "\n",
        "Bkg = np.zeros((p, 5))\n",
        "Bkg[-1][0] = 1\n",
        "Bkg[-2][1] = 1\n",
        "Bkg[-3][2] = 1\n",
        "Bkg[-4][3] = 1\n",
        "Bkg[-5][4] = 1\n",
        "\n",
        "for i in range(N):\n",
        "  S, Splus= generate_data_2(p = p, n = n, sig_lev = sig_lev, bkg_lev = bkg_lev)\n",
        "\n",
        "  vec = np.linalg.eig(S)[1].T[:5]\n",
        "  vec_cl = np.linalg.eig(Splus)[1].T[:5]\n",
        "  vec_unif_1 = Generalized_eigenvector_topk_2(Splus,S).T[:5]\n",
        "\n",
        "  res[0][i] = SinTheta(vec.T, Sig)\n",
        "  res[1][i] = SinTheta(vec_cl.T, Sig)\n",
        "  res[2][i] = SinTheta(vec_unif_1.T, Sig)\n",
        "  res[3][i] = TheoryVal(p/n, min(sig_lev))\n",
        "\n",
        "m = [0]*4\n",
        "sd = [0]*4\n",
        "for i in range(4):\n",
        "  m[i] = float(np.mean(res[i]))\n",
        "  sd[i] = float(np.std(res[i]))\n",
        "print(m,sd)"
      ],
      "metadata": {
        "colab": {
          "base_uri": "https://localhost:8080/"
        },
        "id": "txrrge6r_nFW",
        "outputId": "cb750cec-6e8c-4fe2-f4af-4ffa0c681cc4"
      },
      "execution_count": 310,
      "outputs": [
        {
          "output_type": "stream",
          "name": "stdout",
          "text": [
            "[0.9997542776001838, 0.9960281560487774, 0.29338264346148074, 0.2056883378018608] [0.0003731406801557514, 0.01163141514259555, 0.038515480984905245, 5.551115123125783e-17]\n"
          ]
        }
      ]
    },
    {
      "cell_type": "code",
      "source": [
        "n = 500\n",
        "p = 200\n",
        "N = 50\n",
        "\n",
        "res = [[0]*N for _ in range(4)]\n",
        "\n",
        "sig_lev = [10,10,15,20,20]\n",
        "bkg_lev = [25,25,50,100,100]\n",
        "\n",
        "#### True space\n",
        "Sig = np.zeros((p, 5))\n",
        "Sig[0][0] = 1\n",
        "Sig[1][1] = 1\n",
        "Sig[2][2] = 1\n",
        "Sig[3][3] = 1\n",
        "Sig[4][4] = 1\n",
        "\n",
        "Bkg = np.zeros((p, 5))\n",
        "Bkg[-1][0] = 1\n",
        "Bkg[-2][1] = 1\n",
        "Bkg[-3][2] = 1\n",
        "Bkg[-4][3] = 1\n",
        "Bkg[-5][4] = 1\n",
        "\n",
        "for i in range(N):\n",
        "  S, Splus= generate_data_2(p = p, n = n, sig_lev = sig_lev, bkg_lev = bkg_lev)\n",
        "\n",
        "  vec = np.linalg.eig(S)[1].T[:5]\n",
        "  vec_cl = np.linalg.eig(Splus)[1].T[:5]\n",
        "  vec_unif_1 = Generalized_eigenvector_topk_2(Splus,S).T[:5]\n",
        "\n",
        "  res[0][i] = SinTheta(vec.T, Sig)\n",
        "  res[1][i] = SinTheta(vec_cl.T, Sig)\n",
        "  res[2][i] = SinTheta(vec_unif_1.T, Sig)\n",
        "  res[3][i] = TheoryVal(p/n, min(sig_lev))\n",
        "\n",
        "m = [0]*4\n",
        "sd = [0]*4\n",
        "for i in range(4):\n",
        "  m[i] = float(np.mean(res[i]))\n",
        "  sd[i] = float(np.std(res[i]))\n",
        "print(m,sd)"
      ],
      "metadata": {
        "colab": {
          "base_uri": "https://localhost:8080/"
        },
        "id": "qimlWydk_rot",
        "outputId": "39efabc0-26e2-4501-e78d-cb0f8bc1e464"
      },
      "execution_count": 311,
      "outputs": [
        {
          "output_type": "stream",
          "name": "stdout",
          "text": [
            "[0.9999428638906243, 0.7138123771932324, 0.22770310884883418, 0.2056883378018608] [7.592506452524923e-05, 0.28790693015287866, 0.0102031881374062, 5.551115123125783e-17]\n"
          ]
        }
      ]
    },
    {
      "cell_type": "code",
      "source": [
        "n = 2500\n",
        "p = 1000\n",
        "N = 50\n",
        "\n",
        "res = [[0]*N for _ in range(4)]\n",
        "\n",
        "sig_lev = [10,10,15,20,20]\n",
        "bkg_lev = [25,25,50,100,100]\n",
        "\n",
        "#### True space\n",
        "Sig = np.zeros((p, 5))\n",
        "Sig[0][0] = 1\n",
        "Sig[1][1] = 1\n",
        "Sig[2][2] = 1\n",
        "Sig[3][3] = 1\n",
        "Sig[4][4] = 1\n",
        "\n",
        "Bkg = np.zeros((p, 5))\n",
        "Bkg[-1][0] = 1\n",
        "Bkg[-2][1] = 1\n",
        "Bkg[-3][2] = 1\n",
        "Bkg[-4][3] = 1\n",
        "Bkg[-5][4] = 1\n",
        "\n",
        "for i in range(N):\n",
        "  S, Splus= generate_data_2(p = p, n = n, sig_lev = sig_lev, bkg_lev = bkg_lev)\n",
        "\n",
        "  vec = np.linalg.eig(S)[1].T[:5]\n",
        "  vec_cl = np.linalg.eig(Splus)[1].T[:5]\n",
        "  vec_unif_1 = Generalized_eigenvector_topk_2(Splus,S).T[:5]\n",
        "\n",
        "  res[0][i] = SinTheta(vec.T, Sig)\n",
        "  res[1][i] = SinTheta(vec_cl.T, Sig)\n",
        "  res[2][i] = SinTheta(vec_unif_1.T, Sig)\n",
        "  res[3][i] = TheoryVal(p/n, min(sig_lev))\n",
        "\n",
        "m = [0]*4\n",
        "sd = [0]*4\n",
        "for i in range(4):\n",
        "  m[i] = float(np.mean(res[i]))\n",
        "  sd[i] = float(np.std(res[i]))\n",
        "print(m,sd)"
      ],
      "metadata": {
        "colab": {
          "base_uri": "https://localhost:8080/"
        },
        "id": "bADZl1dD_tX0",
        "outputId": "8f832197-7605-4358-de04-a1d8f2acb43c"
      },
      "execution_count": 312,
      "outputs": [
        {
          "output_type": "stream",
          "name": "stdout",
          "text": [
            "[0.9999842768422705, 0.22296567220510144, 0.21219516972264452, 0.2056883378018608] [1.9604630035003488e-05, 0.06271554730158277, 0.004266133459020698, 5.551115123125783e-17]\n"
          ]
        }
      ]
    }
  ]
}